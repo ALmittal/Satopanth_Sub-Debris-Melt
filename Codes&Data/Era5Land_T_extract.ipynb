{
 "cells": [
  {
   "cell_type": "code",
   "execution_count": 20,
   "metadata": {},
   "outputs": [],
   "source": [
    "import netCDF4 as nc\n",
    "from datetime import datetime, timedelta\n",
    "import pandas as pd\n",
    "import numpy as np"
   ]
  },
  {
   "cell_type": "code",
   "execution_count": 21,
   "metadata": {},
   "outputs": [
    {
     "data": {
      "text/plain": [
       "<class 'netCDF4._netCDF4.Dataset'>\n",
       "root group (NETCDF3_64BIT_OFFSET data model, file format NETCDF3):\n",
       "    Conventions: CF-1.6\n",
       "    history: 2022-01-09 12:51:38 GMT by grib_to_netcdf-2.23.0: /opt/ecmwf/mars-client/bin/grib_to_netcdf -S param -o /cache/data1/adaptor.mars.internal-1641732474.350553-19711-8-de085cc1-e425-4903-af60-e5b45e967752.nc /cache/tmp/de085cc1-e425-4903-af60-e5b45e967752-adaptor.mars.internal-1641727585.8824859-19711-12-tmp.grib\n",
       "    dimensions(sizes): longitude(11), latitude(11), time(26304)\n",
       "    variables(dimensions): float32 longitude(longitude), float32 latitude(latitude), int32 time(time), int16 t2m(time,latitude,longitude)\n",
       "    groups: "
      ]
     },
     "execution_count": 21,
     "metadata": {},
     "output_type": "execute_result"
    }
   ],
   "source": [
    "data = nc.Dataset(r'F:\\North_Changri_Nup\\Era5Land\\Era5Land_t2m_Changri_nup.nc')\n",
    "data"
   ]
  },
  {
   "cell_type": "code",
   "execution_count": 2,
   "metadata": {},
   "outputs": [
    {
     "ename": "NameError",
     "evalue": "name 'data' is not defined",
     "output_type": "error",
     "traceback": [
      "\u001b[1;31m---------------------------------------------------------------------------\u001b[0m",
      "\u001b[1;31mNameError\u001b[0m                                 Traceback (most recent call last)",
      "\u001b[1;32m<ipython-input-2-d612f3725bd6>\u001b[0m in \u001b[0;36m<module>\u001b[1;34m\u001b[0m\n\u001b[1;32m----> 1\u001b[1;33m \u001b[0mdata\u001b[0m\u001b[1;33m[\u001b[0m\u001b[1;34m'latitude'\u001b[0m\u001b[1;33m]\u001b[0m\u001b[1;33m\u001b[0m\u001b[1;33m\u001b[0m\u001b[0m\n\u001b[0m",
      "\u001b[1;31mNameError\u001b[0m: name 'data' is not defined"
     ]
    }
   ],
   "source": [
    "data['latitude']"
   ]
  },
  {
   "cell_type": "code",
   "execution_count": 23,
   "metadata": {},
   "outputs": [
    {
     "name": "stdout",
     "output_type": "stream",
     "text": [
      "[28.5, 28.4, 28.3, 28.2, 28.1, 28.0, 27.9, 27.8, 27.7, 27.6, 27.5] [86.0, 86.1, 86.2, 86.3, 86.4, 86.5, 86.6, 86.7, 86.8, 86.9, 87.0]\n"
     ]
    }
   ],
   "source": [
    "lat = [28.1, 28.0, 27.9]\n",
    "long = [86.7, 86.8, 86.9]\n",
    "\n",
    "lat_list = []\n",
    "for i in data.variables['latitude'][:].data.tolist():\n",
    "    lat_list.append(round(i,2))\n",
    "\n",
    "long_list = []\n",
    "for i in data.variables['longitude'][:].data.tolist():\n",
    "    long_list.append(round(i,2))\n",
    "    \n",
    "print(lat_list, long_list)"
   ]
  },
  {
   "cell_type": "code",
   "execution_count": 24,
   "metadata": {},
   "outputs": [],
   "source": [
    "lat_ind = []\n",
    "long_ind = []\n",
    "\n",
    "ind = 0\n",
    "for i in lat_list:\n",
    "    if float(i) in lat: lat_ind.append(ind)\n",
    "    ind += 1\n",
    "ind = 0\n",
    "for i in long_list:\n",
    "    if float(i) in long: long_ind.append(ind)\n",
    "    ind += 1"
   ]
  },
  {
   "cell_type": "code",
   "execution_count": 25,
   "metadata": {},
   "outputs": [
    {
     "data": {
      "text/plain": [
       "[4, 5, 6]"
      ]
     },
     "execution_count": 25,
     "metadata": {},
     "output_type": "execute_result"
    }
   ],
   "source": [
    "lat_ind"
   ]
  },
  {
   "cell_type": "code",
   "execution_count": 26,
   "metadata": {},
   "outputs": [
    {
     "data": {
      "text/plain": [
       "[7, 8, 9]"
      ]
     },
     "execution_count": 26,
     "metadata": {},
     "output_type": "execute_result"
    }
   ],
   "source": [
    "long_ind"
   ]
  },
  {
   "cell_type": "code",
   "execution_count": 33,
   "metadata": {},
   "outputs": [],
   "source": [
    "timesteps = 8760 + 8760 + 8784\n",
    "hour=data.variables['time'][8760 + 8760:timesteps].data #8760 + 8760 for 2014 data"
   ]
  },
  {
   "cell_type": "code",
   "execution_count": 34,
   "metadata": {},
   "outputs": [],
   "source": [
    "date=[]\n",
    "for i in hour:\n",
    "    i=i.item()\n",
    "    start = datetime(1900,1,1)\n",
    "    delta = timedelta(hours=i)\n",
    "    offset = start + delta\n",
    "    date.append(offset)"
   ]
  },
  {
   "cell_type": "code",
   "execution_count": 35,
   "metadata": {},
   "outputs": [],
   "source": [
    "hourly_t=pd.DataFrame(date, columns=['Date'])\n",
    "\n",
    "for i in range(len(lat)):\n",
    "    for j in range(len(long)):\n",
    "        hourly_t[str(str(lat[i])+','+str(long[j]))] = (data.variables['t2m'][8760 + 8760:timesteps,lat_ind[i],long_ind[j]])-273.15 \n",
    "        #5136 for 1986 data\n",
    "hourly_t.to_csv(r'F:\\North_Changri_Nup\\Era5Land\\ChangriNup_Hourly_T_2016.csv',index=False)"
   ]
  },
  {
   "cell_type": "code",
   "execution_count": null,
   "metadata": {},
   "outputs": [],
   "source": []
  }
 ],
 "metadata": {
  "kernelspec": {
   "display_name": "Python 3",
   "language": "python",
   "name": "python3"
  },
  "language_info": {
   "codemirror_mode": {
    "name": "ipython",
    "version": 3
   },
   "file_extension": ".py",
   "mimetype": "text/x-python",
   "name": "python",
   "nbconvert_exporter": "python",
   "pygments_lexer": "ipython3",
   "version": "3.8.3"
  }
 },
 "nbformat": 4,
 "nbformat_minor": 4
}
