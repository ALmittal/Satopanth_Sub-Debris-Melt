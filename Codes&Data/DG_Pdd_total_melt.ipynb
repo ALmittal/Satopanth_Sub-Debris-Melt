{
 "cells": [
  {
   "cell_type": "code",
   "execution_count": 1,
   "metadata": {},
   "outputs": [],
   "source": [
    "import numpy as np\n",
    "import pandas as pd\n",
    "import matplotlib.pyplot as plt\n",
    "import random"
   ]
  },
  {
   "cell_type": "code",
   "execution_count": 2,
   "metadata": {
    "scrolled": true
   },
   "outputs": [
    {
     "data": {
      "text/html": [
       "<div>\n",
       "<style scoped>\n",
       "    .dataframe tbody tr th:only-of-type {\n",
       "        vertical-align: middle;\n",
       "    }\n",
       "\n",
       "    .dataframe tbody tr th {\n",
       "        vertical-align: top;\n",
       "    }\n",
       "\n",
       "    .dataframe thead th {\n",
       "        text-align: right;\n",
       "    }\n",
       "</style>\n",
       "<table border=\"1\" class=\"dataframe\">\n",
       "  <thead>\n",
       "    <tr style=\"text-align: right;\">\n",
       "      <th></th>\n",
       "      <th>year</th>\n",
       "      <th>jd1</th>\n",
       "      <th>jd2</th>\n",
       "      <th>obs_period(days)</th>\n",
       "      <th>gm(10^6)m3</th>\n",
       "      <th>T_mean</th>\n",
       "      <th>T_mean_Era</th>\n",
       "      <th>Bias</th>\n",
       "    </tr>\n",
       "  </thead>\n",
       "  <tbody>\n",
       "    <tr>\n",
       "      <th>0</th>\n",
       "      <td>1992</td>\n",
       "      <td>214</td>\n",
       "      <td>229</td>\n",
       "      <td>16</td>\n",
       "      <td>0.67</td>\n",
       "      <td>8.6</td>\n",
       "      <td>7.050877</td>\n",
       "      <td>1.549123</td>\n",
       "    </tr>\n",
       "    <tr>\n",
       "      <th>1</th>\n",
       "      <td>1992</td>\n",
       "      <td>230</td>\n",
       "      <td>244</td>\n",
       "      <td>15</td>\n",
       "      <td>0.60</td>\n",
       "      <td>8.6</td>\n",
       "      <td>7.152522</td>\n",
       "      <td>1.447478</td>\n",
       "    </tr>\n",
       "    <tr>\n",
       "      <th>2</th>\n",
       "      <td>1992</td>\n",
       "      <td>245</td>\n",
       "      <td>259</td>\n",
       "      <td>15</td>\n",
       "      <td>0.33</td>\n",
       "      <td>7.3</td>\n",
       "      <td>4.968830</td>\n",
       "      <td>2.331170</td>\n",
       "    </tr>\n",
       "    <tr>\n",
       "      <th>3</th>\n",
       "      <td>1992</td>\n",
       "      <td>260</td>\n",
       "      <td>274</td>\n",
       "      <td>15</td>\n",
       "      <td>0.33</td>\n",
       "      <td>5.3</td>\n",
       "      <td>2.192828</td>\n",
       "      <td>3.107172</td>\n",
       "    </tr>\n",
       "  </tbody>\n",
       "</table>\n",
       "</div>"
      ],
      "text/plain": [
       "   year  jd1  jd2  obs_period(days)  gm(10^6)m3  T_mean  T_mean_Era      Bias\n",
       "0  1992  214  229                16        0.67     8.6    7.050877  1.549123\n",
       "1  1992  230  244                15        0.60     8.6    7.152522  1.447478\n",
       "2  1992  245  259                15        0.33     7.3    4.968830  2.331170\n",
       "3  1992  260  274                15        0.33     5.3    2.192828  3.107172"
      ]
     },
     "execution_count": 2,
     "metadata": {},
     "output_type": "execute_result"
    }
   ],
   "source": [
    "Enter_year = 1992\n",
    "bias_data_loc = \"F:\\DG\\Era5Land\\\\\" + str(Enter_year) + \"\\\\Bias.csv\"\n",
    "df_bias = pd.read_csv(bias_data_loc)\n",
    "df_bias"
   ]
  },
  {
   "cell_type": "code",
   "execution_count": 3,
   "metadata": {},
   "outputs": [
    {
     "data": {
      "text/html": [
       "<div>\n",
       "<style scoped>\n",
       "    .dataframe tbody tr th:only-of-type {\n",
       "        vertical-align: middle;\n",
       "    }\n",
       "\n",
       "    .dataframe tbody tr th {\n",
       "        vertical-align: top;\n",
       "    }\n",
       "\n",
       "    .dataframe thead th {\n",
       "        text-align: right;\n",
       "    }\n",
       "</style>\n",
       "<table border=\"1\" class=\"dataframe\">\n",
       "  <thead>\n",
       "    <tr style=\"text-align: right;\">\n",
       "      <th></th>\n",
       "      <th>Julian day</th>\n",
       "      <th>Date</th>\n",
       "      <th>30.7,79.8</th>\n",
       "      <th>30.7,79.9</th>\n",
       "      <th>30.7,80.0</th>\n",
       "      <th>30.6,79.8</th>\n",
       "      <th>30.6,79.9</th>\n",
       "      <th>30.6,80.0</th>\n",
       "      <th>30.5,79.8</th>\n",
       "      <th>30.5,79.9</th>\n",
       "      <th>30.5,80.0</th>\n",
       "      <th>LapseRate</th>\n",
       "      <th>Moving_average_lapse_rate</th>\n",
       "      <th>continuous_day</th>\n",
       "      <th>T_4200</th>\n",
       "    </tr>\n",
       "  </thead>\n",
       "  <tbody>\n",
       "    <tr>\n",
       "      <th>0</th>\n",
       "      <td>153.01</td>\n",
       "      <td>1992-06-02 0:00:00</td>\n",
       "      <td>-4.756357</td>\n",
       "      <td>-5.748954</td>\n",
       "      <td>-8.592992</td>\n",
       "      <td>-2.707805</td>\n",
       "      <td>-6.542094</td>\n",
       "      <td>-9.719344</td>\n",
       "      <td>-3.604193</td>\n",
       "      <td>-8.127199</td>\n",
       "      <td>-9.454182</td>\n",
       "      <td>5.672593</td>\n",
       "      <td>6.340884</td>\n",
       "      <td>153.041667</td>\n",
       "      <td>-4.222418</td>\n",
       "    </tr>\n",
       "    <tr>\n",
       "      <th>1</th>\n",
       "      <td>153.02</td>\n",
       "      <td>1992-06-02 1:00:00</td>\n",
       "      <td>-4.317549</td>\n",
       "      <td>-5.439208</td>\n",
       "      <td>-8.145971</td>\n",
       "      <td>-2.339394</td>\n",
       "      <td>-6.057528</td>\n",
       "      <td>-9.306348</td>\n",
       "      <td>-3.015205</td>\n",
       "      <td>-7.438482</td>\n",
       "      <td>-8.783064</td>\n",
       "      <td>6.192403</td>\n",
       "      <td>6.308392</td>\n",
       "      <td>153.083333</td>\n",
       "      <td>-3.786346</td>\n",
       "    </tr>\n",
       "    <tr>\n",
       "      <th>2</th>\n",
       "      <td>153.03</td>\n",
       "      <td>1992-06-02 2:00:00</td>\n",
       "      <td>-1.926399</td>\n",
       "      <td>-2.840386</td>\n",
       "      <td>-5.108342</td>\n",
       "      <td>0.390835</td>\n",
       "      <td>-3.369537</td>\n",
       "      <td>-6.361408</td>\n",
       "      <td>0.013038</td>\n",
       "      <td>-4.447784</td>\n",
       "      <td>-6.389567</td>\n",
       "      <td>5.704630</td>\n",
       "      <td>6.250140</td>\n",
       "      <td>153.125000</td>\n",
       "      <td>-1.400101</td>\n",
       "    </tr>\n",
       "  </tbody>\n",
       "</table>\n",
       "</div>"
      ],
      "text/plain": [
       "   Julian day                Date  30.7,79.8  30.7,79.9  30.7,80.0  30.6,79.8  \\\n",
       "0      153.01  1992-06-02 0:00:00  -4.756357  -5.748954  -8.592992  -2.707805   \n",
       "1      153.02  1992-06-02 1:00:00  -4.317549  -5.439208  -8.145971  -2.339394   \n",
       "2      153.03  1992-06-02 2:00:00  -1.926399  -2.840386  -5.108342   0.390835   \n",
       "\n",
       "   30.6,79.9  30.6,80.0  30.5,79.8  30.5,79.9  30.5,80.0  LapseRate  \\\n",
       "0  -6.542094  -9.719344  -3.604193  -8.127199  -9.454182   5.672593   \n",
       "1  -6.057528  -9.306348  -3.015205  -7.438482  -8.783064   6.192403   \n",
       "2  -3.369537  -6.361408   0.013038  -4.447784  -6.389567   5.704630   \n",
       "\n",
       "   Moving_average_lapse_rate  continuous_day    T_4200  \n",
       "0                   6.340884      153.041667 -4.222418  \n",
       "1                   6.308392      153.083333 -3.786346  \n",
       "2                   6.250140      153.125000 -1.400101  "
      ]
     },
     "execution_count": 3,
     "metadata": {},
     "output_type": "execute_result"
    }
   ],
   "source": [
    "loc_t_lr = \"F:\\DG\\Era5Land\\\\\" + str(Enter_year) + \"\\\\Hourly_T_lr.csv\"\n",
    "df_T_lr = pd.read_csv(loc_t_lr)\n",
    "df_T_lr.head(3)"
   ]
  },
  {
   "cell_type": "code",
   "execution_count": 4,
   "metadata": {},
   "outputs": [
    {
     "data": {
      "text/html": [
       "<div>\n",
       "<style scoped>\n",
       "    .dataframe tbody tr th:only-of-type {\n",
       "        vertical-align: middle;\n",
       "    }\n",
       "\n",
       "    .dataframe tbody tr th {\n",
       "        vertical-align: top;\n",
       "    }\n",
       "\n",
       "    .dataframe thead th {\n",
       "        text-align: right;\n",
       "    }\n",
       "</style>\n",
       "<table border=\"1\" class=\"dataframe\">\n",
       "  <thead>\n",
       "    <tr style=\"text-align: right;\">\n",
       "      <th></th>\n",
       "      <th>Elevation (m)</th>\n",
       "      <th>Area (in km^2)</th>\n",
       "    </tr>\n",
       "  </thead>\n",
       "  <tbody>\n",
       "    <tr>\n",
       "      <th>0</th>\n",
       "      <td>4250</td>\n",
       "      <td>0.066466</td>\n",
       "    </tr>\n",
       "    <tr>\n",
       "      <th>1</th>\n",
       "      <td>4350</td>\n",
       "      <td>0.441675</td>\n",
       "    </tr>\n",
       "    <tr>\n",
       "      <th>2</th>\n",
       "      <td>4450</td>\n",
       "      <td>0.583183</td>\n",
       "    </tr>\n",
       "    <tr>\n",
       "      <th>3</th>\n",
       "      <td>4550</td>\n",
       "      <td>0.603551</td>\n",
       "    </tr>\n",
       "    <tr>\n",
       "      <th>4</th>\n",
       "      <td>4650</td>\n",
       "      <td>0.549950</td>\n",
       "    </tr>\n",
       "    <tr>\n",
       "      <th>5</th>\n",
       "      <td>4750</td>\n",
       "      <td>0.154372</td>\n",
       "    </tr>\n",
       "    <tr>\n",
       "      <th>6</th>\n",
       "      <td>4850</td>\n",
       "      <td>0.159732</td>\n",
       "    </tr>\n",
       "  </tbody>\n",
       "</table>\n",
       "</div>"
      ],
      "text/plain": [
       "   Elevation (m)  Area (in km^2)\n",
       "0           4250        0.066466\n",
       "1           4350        0.441675\n",
       "2           4450        0.583183\n",
       "3           4550        0.603551\n",
       "4           4650        0.549950\n",
       "5           4750        0.154372\n",
       "6           4850        0.159732"
      ]
     },
     "execution_count": 4,
     "metadata": {},
     "output_type": "execute_result"
    }
   ],
   "source": [
    "df_histo = pd.read_csv('F:\\DG\\dg_histo_debris_covered.csv')  #from DEM\n",
    "df_histo"
   ]
  },
  {
   "cell_type": "code",
   "execution_count": 5,
   "metadata": {},
   "outputs": [],
   "source": [
    "elevation = df_histo['Elevation (m)']\n",
    "area = df_histo['Area (in km^2)']\n"
   ]
  },
  {
   "cell_type": "markdown",
   "metadata": {},
   "source": [
    "## Finding Pdd"
   ]
  },
  {
   "cell_type": "code",
   "execution_count": 6,
   "metadata": {},
   "outputs": [
    {
     "data": {
      "text/html": [
       "<div>\n",
       "<style scoped>\n",
       "    .dataframe tbody tr th:only-of-type {\n",
       "        vertical-align: middle;\n",
       "    }\n",
       "\n",
       "    .dataframe tbody tr th {\n",
       "        vertical-align: top;\n",
       "    }\n",
       "\n",
       "    .dataframe thead th {\n",
       "        text-align: right;\n",
       "    }\n",
       "</style>\n",
       "<table border=\"1\" class=\"dataframe\">\n",
       "  <thead>\n",
       "    <tr style=\"text-align: right;\">\n",
       "      <th></th>\n",
       "      <th>year</th>\n",
       "      <th>jd1</th>\n",
       "      <th>jd2</th>\n",
       "      <th>obs_period(days)</th>\n",
       "      <th>gm(10^6)m3</th>\n",
       "      <th>T_mean</th>\n",
       "      <th>T_mean_Era</th>\n",
       "      <th>Bias</th>\n",
       "      <th>pdd_area_weighted</th>\n",
       "    </tr>\n",
       "  </thead>\n",
       "  <tbody>\n",
       "    <tr>\n",
       "      <th>0</th>\n",
       "      <td>1992</td>\n",
       "      <td>214</td>\n",
       "      <td>229</td>\n",
       "      <td>16</td>\n",
       "      <td>0.67</td>\n",
       "      <td>8.6</td>\n",
       "      <td>7.050877</td>\n",
       "      <td>1.549123</td>\n",
       "      <td>113.037146</td>\n",
       "    </tr>\n",
       "    <tr>\n",
       "      <th>1</th>\n",
       "      <td>1992</td>\n",
       "      <td>230</td>\n",
       "      <td>244</td>\n",
       "      <td>15</td>\n",
       "      <td>0.60</td>\n",
       "      <td>8.6</td>\n",
       "      <td>7.152522</td>\n",
       "      <td>1.447478</td>\n",
       "      <td>105.778837</td>\n",
       "    </tr>\n",
       "    <tr>\n",
       "      <th>2</th>\n",
       "      <td>1992</td>\n",
       "      <td>245</td>\n",
       "      <td>259</td>\n",
       "      <td>15</td>\n",
       "      <td>0.33</td>\n",
       "      <td>7.3</td>\n",
       "      <td>4.968830</td>\n",
       "      <td>2.331170</td>\n",
       "      <td>86.463719</td>\n",
       "    </tr>\n",
       "    <tr>\n",
       "      <th>3</th>\n",
       "      <td>1992</td>\n",
       "      <td>260</td>\n",
       "      <td>274</td>\n",
       "      <td>15</td>\n",
       "      <td>0.33</td>\n",
       "      <td>5.3</td>\n",
       "      <td>2.192828</td>\n",
       "      <td>3.107172</td>\n",
       "      <td>57.985978</td>\n",
       "    </tr>\n",
       "  </tbody>\n",
       "</table>\n",
       "</div>"
      ],
      "text/plain": [
       "   year  jd1  jd2  obs_period(days)  gm(10^6)m3  T_mean  T_mean_Era      Bias  \\\n",
       "0  1992  214  229                16        0.67     8.6    7.050877  1.549123   \n",
       "1  1992  230  244                15        0.60     8.6    7.152522  1.447478   \n",
       "2  1992  245  259                15        0.33     7.3    4.968830  2.331170   \n",
       "3  1992  260  274                15        0.33     5.3    2.192828  3.107172   \n",
       "\n",
       "   pdd_area_weighted  \n",
       "0         113.037146  \n",
       "1         105.778837  \n",
       "2          86.463719  \n",
       "3          57.985978  "
      ]
     },
     "execution_count": 6,
     "metadata": {},
     "output_type": "execute_result"
    }
   ],
   "source": [
    "area_weighted_pdd = []\n",
    "for i in range(len(df_bias.index)):  #number of time intervals is 5\n",
    "    areaXpdd = []   # for each time interval, area*pdd for different elevations of the histogram\n",
    "    for a, z in zip(area, elevation):  \n",
    "        y = list(df_T_lr['Julian day']).index(df_bias['jd2'][i] + 1.01) #indices of starting and ending day\n",
    "        x = list(df_T_lr['Julian day']).index(df_bias['jd1'][i] + .01)\n",
    "        temp_at_z = list(df_T_lr['Moving_average_lapse_rate'][x:y]*(4284.205724 - z )/1000 + df_T_lr['30.7,79.8'][x:y] + df_bias['Bias'][i])\n",
    "        PDD = sum([s for s in temp_at_z if s > 0]) / 24 \n",
    "        areaXpdd.append(PDD*a)\n",
    "    area_weighted_pdd.append(sum(areaXpdd)/sum(area))\n",
    "\n",
    "df_bias['pdd_area_weighted'] = area_weighted_pdd\n",
    "df_bias"
   ]
  },
  {
   "cell_type": "markdown",
   "metadata": {},
   "source": [
    "## Frequency distribution of Debris"
   ]
  },
  {
   "cell_type": "code",
   "execution_count": 7,
   "metadata": {},
   "outputs": [],
   "source": [
    "df_freq = pd.read_csv('F:\\DG\\dg_debris_freq_distribution.csv')"
   ]
  },
  {
   "cell_type": "code",
   "execution_count": 8,
   "metadata": {},
   "outputs": [
    {
     "data": {
      "text/html": [
       "<div>\n",
       "<style scoped>\n",
       "    .dataframe tbody tr th:only-of-type {\n",
       "        vertical-align: middle;\n",
       "    }\n",
       "\n",
       "    .dataframe tbody tr th {\n",
       "        vertical-align: top;\n",
       "    }\n",
       "\n",
       "    .dataframe thead th {\n",
       "        text-align: right;\n",
       "    }\n",
       "</style>\n",
       "<table border=\"1\" class=\"dataframe\">\n",
       "  <thead>\n",
       "    <tr style=\"text-align: right;\">\n",
       "      <th></th>\n",
       "      <th>Debris thickness (cm)</th>\n",
       "      <th>Frequency</th>\n",
       "    </tr>\n",
       "  </thead>\n",
       "  <tbody>\n",
       "    <tr>\n",
       "      <th>0</th>\n",
       "      <td>5</td>\n",
       "      <td>0.143206</td>\n",
       "    </tr>\n",
       "    <tr>\n",
       "      <th>1</th>\n",
       "      <td>15</td>\n",
       "      <td>0.123224</td>\n",
       "    </tr>\n",
       "    <tr>\n",
       "      <th>2</th>\n",
       "      <td>25</td>\n",
       "      <td>0.121226</td>\n",
       "    </tr>\n",
       "    <tr>\n",
       "      <th>3</th>\n",
       "      <td>35</td>\n",
       "      <td>0.084369</td>\n",
       "    </tr>\n",
       "  </tbody>\n",
       "</table>\n",
       "</div>"
      ],
      "text/plain": [
       "   Debris thickness (cm)  Frequency\n",
       "0                      5   0.143206\n",
       "1                     15   0.123224\n",
       "2                     25   0.121226\n",
       "3                     35   0.084369"
      ]
     },
     "execution_count": 8,
     "metadata": {},
     "output_type": "execute_result"
    }
   ],
   "source": [
    "debris_thickness = df_freq['Debris thickness (cm)']\n",
    "freq = df_freq['Frequency']\n",
    "df_freq.head(4)"
   ]
  },
  {
   "cell_type": "markdown",
   "metadata": {},
   "source": [
    "## Finding Total melt"
   ]
  },
  {
   "cell_type": "code",
   "execution_count": 9,
   "metadata": {},
   "outputs": [],
   "source": [
    "total_melts1 = [] #contains total melts for 5 periods\n",
    "for i in range(len(df_bias.index)):\n",
    "    melts_for_1 = [] #contains melts for 1 time interval for each debris band\n",
    "    for d, fr in zip(debris_thickness, freq):\n",
    "        TF1 = 5.84\n",
    "        TF1_uncer = 0.06\n",
    "        TF2 = -0.38\n",
    "        TF2_uncer = 0.004\n",
    "        melts_for_1.append(((TF1  + random.uniform(-TF1_uncer, TF1_uncer))* area_weighted_pdd[i]*d**(TF2 +random.uniform(-TF2_uncer, TF2_uncer)))*fr*2.56/1000)\n",
    "    total_melts1.append(sum(melts_for_1))\n",
    "df_bias['model 1 gm'] = total_melts1"
   ]
  },
  {
   "cell_type": "code",
   "execution_count": 10,
   "metadata": {},
   "outputs": [],
   "source": [
    "total_melts2 = [] #contains total melts for 5 periods\n",
    "for i in range(len(df_bias.index)):\n",
    "    melts_for_1 = [] #contains melts for 1 time interval for each debris band\n",
    "    for d, fr in zip(debris_thickness, freq):\n",
    "        DDF = 5.1\n",
    "        DDF_uncer = 0.05\n",
    "        d0 = 12.19\n",
    "        d0_uncer = 0.13\n",
    "        melts_for_1.append(((DDF+random.uniform(-DDF_uncer, DDF_uncer)) *area_weighted_pdd[i]/(1+d/(d0+random.uniform(-d0_uncer, d0_uncer))))*fr*2.56/1000)\n",
    "    total_melts2.append(sum(melts_for_1))\n",
    "df_bias['model 2 gm'] = total_melts2"
   ]
  },
  {
   "cell_type": "code",
   "execution_count": 11,
   "metadata": {},
   "outputs": [],
   "source": [
    "total_melts3 = [] #contains total melts for 5 periods\n",
    "for i in range(len(df_bias.index)):\n",
    "    melts_for_1 = [] #contains melts for 1 time interval for each debris band\n",
    "    for d, fr in zip(debris_thickness, freq):\n",
    "        DDF = 4.4\n",
    "        DDF_uncer = 0.04\n",
    "        d0 = 6.83\n",
    "        d0_uncer = 0.08\n",
    "        a = 0.37\n",
    "        a_uncer = 0.08\n",
    "        melts_for_1.append(((DDF+random.uniform(-DDF_uncer, DDF_uncer)) * area_weighted_pdd[i] / ((1 + (d /(d0+random.uniform(-d0_uncer, d0_uncer))) ** 2) **(a+random.uniform(-a_uncer, a_uncer))))*fr*2.56/1000)\n",
    "    total_melts3.append(sum(melts_for_1))\n",
    "df_bias['model 3 gm'] = total_melts3"
   ]
  },
  {
   "cell_type": "code",
   "execution_count": 12,
   "metadata": {},
   "outputs": [],
   "source": [
    "df_bias.to_csv(\"F:\\DG\\Era5Land\\\\\" + str(Enter_year) + \"\\\\Total_melt.csv\")"
   ]
  },
  {
   "cell_type": "code",
   "execution_count": 13,
   "metadata": {},
   "outputs": [],
   "source": [
    "julian_day_intervals = []\n",
    "for i, j in zip(df_bias['jd1'], df_bias['jd2']):\n",
    "    julian_day_intervals.append(str(i) + '-' + str(j))"
   ]
  },
  {
   "cell_type": "code",
   "execution_count": 14,
   "metadata": {},
   "outputs": [],
   "source": [
    "plt.rcParams['figure.dpi'] = 200\n",
    "plt.rcParams['savefig.dpi'] = 200"
   ]
  },
  {
   "cell_type": "code",
   "execution_count": 15,
   "metadata": {},
   "outputs": [
    {
     "data": {
      "text/plain": [
       "Text(0, 0.5, 'Total melt in (10^6)m^3')"
      ]
     },
     "execution_count": 15,
     "metadata": {},
     "output_type": "execute_result"
    },
    {
     "data": {
      "image/png": "[encoded data removed]",
      "text/plain": [
       "<Figure size 1200x800 with 1 Axes>"
      ]
     },
     "metadata": {
      "needs_background": "light"
     },
     "output_type": "display_data"
    }
   ],
   "source": [
    "plt.plot(julian_day_intervals, df_bias['gm(10^6)m3'], label ='Observed')\n",
    "plt.scatter(julian_day_intervals, df_bias['gm(10^6)m3'], s = 15)\n",
    "plt.plot(julian_day_intervals, total_melts1, label ='Model 1')\n",
    "plt.scatter(julian_day_intervals, total_melts1, s = 15)\n",
    "plt.plot(julian_day_intervals, total_melts2, label ='Model 2')\n",
    "plt.scatter(julian_day_intervals, total_melts2, s = 15)\n",
    "plt.plot(julian_day_intervals, total_melts3, label ='Model 3')\n",
    "plt.scatter(julian_day_intervals, total_melts3, s = 15)\n",
    "\n",
    "plt.legend()\n",
    "plt.title('Dunagiri {} total melt using 3 models'.format(Enter_year))\n",
    "plt.xlabel('julian day')\n",
    "plt.ylabel('Total melt in (10^6)m^3')"
   ]
  },
  {
   "cell_type": "markdown",
   "metadata": {},
   "source": [
    "### Calulating RMSE"
   ]
  },
  {
   "cell_type": "code",
   "execution_count": 16,
   "metadata": {},
   "outputs": [
    {
     "name": "stdout",
     "output_type": "stream",
     "text": [
      "RMSE_1 = 0.13170664742949653\n",
      "RMSE_2 = 0.16087753706794836\n",
      "RMSE_3 = 0.14713012638882444\n"
     ]
    }
   ],
   "source": [
    "#for model 1\n",
    "sqd_1 = []\n",
    "for i, j in zip(df_bias['gm(10^6)m3'], total_melts1):\n",
    "    sqd_1.append((i-j)**2)\n",
    "print('RMSE_1 =', (sum(sqd_1)/len(sqd_1))**0.5)\n",
    "\n",
    "#for model 2\n",
    "sqd_2 = []\n",
    "for i, j in zip(df_bias['gm(10^6)m3'], total_melts2):\n",
    "    sqd_2.append((i-j)**2)\n",
    "print('RMSE_2 =', (sum(sqd_2)/len(sqd_2))**0.5)\n",
    "\n",
    "#for model 3\n",
    "sqd_3 = []\n",
    "for i, j in zip(df_bias['gm(10^6)m3'], total_melts3):\n",
    "    sqd_3.append((i-j)**2)\n",
    "print('RMSE_3 =', (sum(sqd_3)/len(sqd_3))**0.5)\n",
    "\n"
   ]
  }
 ],
 "metadata": {
  "kernelspec": {
   "display_name": "Python 3",
   "language": "python",
   "name": "python3"
  },
  "language_info": {
   "codemirror_mode": {
    "name": "ipython",
    "version": 3
   },
   "file_extension": ".py",
   "mimetype": "text/x-python",
   "name": "python",
   "nbconvert_exporter": "python",
   "pygments_lexer": "ipython3",
   "version": "3.8.3"
  }
 },
 "nbformat": 4,
 "nbformat_minor": 4
}
