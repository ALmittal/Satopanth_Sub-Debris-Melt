{
 "cells": [
  {
   "cell_type": "code",
   "execution_count": 1,
   "metadata": {},
   "outputs": [],
   "source": [
    "import math\n",
    "import numpy as np\n",
    "from numpy import nan\n",
    "import pandas as pd\n",
    "import matplotlib.pyplot as plt\n",
    "from scipy.optimize import curve_fit\n",
    "import random"
   ]
  },
  {
   "cell_type": "markdown",
   "metadata": {},
   "source": [
    "### Julian day Series\n"
   ]
  },
  {
   "cell_type": "code",
   "execution_count": 2,
   "metadata": {},
   "outputs": [],
   "source": [
    "jd = []\n",
    "n = 365\n",
    "for i in range(n):\n",
    "    jd.append(i+1)\n",
    "    \n",
    "continuous_day = []\n",
    "\n",
    "for i in jd:\n",
    "    x = 1\n",
    "    while x<25:\n",
    "        continuous_day.append(i+x/24-0.0001)\n",
    "        x +=1\n",
    "#continuous_day\n",
    "df_jd = pd.DataFrame({'Julian Day': continuous_day})\n",
    "#print(df_jd.head(50))\n",
    "df_jd.to_csv(r'F:\\North_Changri_Nup\\Julian_day.csv')"
   ]
  },
  {
   "cell_type": "markdown",
   "metadata": {},
   "source": [
    "## Lapse Rate Models\n"
   ]
  },
  {
   "cell_type": "code",
   "execution_count": 3,
   "metadata": {},
   "outputs": [
    {
     "data": {
      "text/html": [
       "<div>\n",
       "<style scoped>\n",
       "    .dataframe tbody tr th:only-of-type {\n",
       "        vertical-align: middle;\n",
       "    }\n",
       "\n",
       "    .dataframe tbody tr th {\n",
       "        vertical-align: top;\n",
       "    }\n",
       "\n",
       "    .dataframe thead th {\n",
       "        text-align: right;\n",
       "    }\n",
       "</style>\n",
       "<table border=\"1\" class=\"dataframe\">\n",
       "  <thead>\n",
       "    <tr style=\"text-align: right;\">\n",
       "      <th></th>\n",
       "      <th>Date</th>\n",
       "      <th>Julian Day</th>\n",
       "      <th>28.1,86.7</th>\n",
       "      <th>28.1,86.8</th>\n",
       "      <th>28.1,86.9</th>\n",
       "      <th>28.0,86.7</th>\n",
       "      <th>28.0,86.8</th>\n",
       "      <th>28.0,86.9</th>\n",
       "      <th>27.9,86.7</th>\n",
       "      <th>27.9,86.8</th>\n",
       "      <th>27.9,86.9</th>\n",
       "    </tr>\n",
       "  </thead>\n",
       "  <tbody>\n",
       "    <tr>\n",
       "      <th>0</th>\n",
       "      <td>01-12-2014 0:00</td>\n",
       "      <td>1.01</td>\n",
       "      <td>-8.75445</td>\n",
       "      <td>-10.0335</td>\n",
       "      <td>-11.4669</td>\n",
       "      <td>-4.47668</td>\n",
       "      <td>-6.70591</td>\n",
       "      <td>-10.4924</td>\n",
       "      <td>-0.470960</td>\n",
       "      <td>-2.69918</td>\n",
       "      <td>-7.69567</td>\n",
       "    </tr>\n",
       "    <tr>\n",
       "      <th>1</th>\n",
       "      <td>01-12-2014 1:00</td>\n",
       "      <td>1.02</td>\n",
       "      <td>-9.25593</td>\n",
       "      <td>-10.5025</td>\n",
       "      <td>-11.9511</td>\n",
       "      <td>-4.27162</td>\n",
       "      <td>-6.61760</td>\n",
       "      <td>-10.8812</td>\n",
       "      <td>0.181771</td>\n",
       "      <td>-2.16623</td>\n",
       "      <td>-7.87332</td>\n",
       "    </tr>\n",
       "  </tbody>\n",
       "</table>\n",
       "</div>"
      ],
      "text/plain": [
       "              Date  Julian Day  28.1,86.7  28.1,86.8  28.1,86.9  28.0,86.7  \\\n",
       "0  01-12-2014 0:00        1.01   -8.75445   -10.0335   -11.4669   -4.47668   \n",
       "1  01-12-2014 1:00        1.02   -9.25593   -10.5025   -11.9511   -4.27162   \n",
       "\n",
       "   28.0,86.8  28.0,86.9  27.9,86.7  27.9,86.8  27.9,86.9  \n",
       "0   -6.70591   -10.4924  -0.470960   -2.69918   -7.69567  \n",
       "1   -6.61760   -10.8812   0.181771   -2.16623   -7.87332  "
      ]
     },
     "execution_count": 3,
     "metadata": {},
     "output_type": "execute_result"
    }
   ],
   "source": [
    "df_day_9tiles = pd.read_csv(r'F:\\North_Changri_Nup\\Era5Land\\9 tile_T_Nov2014-Nov2015.csv')\n",
    "elevations = [6008.11359, 6104.398402, 6143.32205, 5311.277867, 5581.080203, 5991.622255,\n",
    "              4646.810231, 4923.782713, 5560.08192]  #uncertainty not known\n",
    "Julian_day = []\n",
    "for i in range(1, 364):\n",
    "    x = 1\n",
    "    while x <25:\n",
    "        Julian_day.append(round(i+ x/100, 2))\n",
    "        x+=1\n",
    "        \n",
    "df_day_9tiles['Julian Day'] = Julian_day\n",
    "df_day_9tiles.head(2)"
   ]
  },
  {
   "cell_type": "code",
   "execution_count": 4,
   "metadata": {},
   "outputs": [
    {
     "name": "stdout",
     "output_type": "stream",
     "text": [
      "6.065561303951318\n"
     ]
    }
   ],
   "source": [
    "lapse_rate_hourly = [] #Hourly Lapse rate of the given year\n",
    "for i in range(8712):\n",
    "    def func(X, a, c):\n",
    "        return a*X + c\n",
    "    \n",
    "    # X and Ydata\n",
    "    X = elevations\n",
    "    Ydata = list(df_day_9tiles.iloc[i, 2:])\n",
    "    popt, pcov = curve_fit(func, X, Ydata)\n",
    "    #print(pcov[0][0]**0.5) uncertainty\n",
    "    lapse_rate_hourly.append((popt[0]  + random.uniform(-pcov[0][0]**0.5,pcov[0][0]**0.5) )*(-1000))\n",
    "df_day_9tiles['LapseRate'] = lapse_rate_hourly\n",
    "print(sum(lapse_rate_hourly)/len(lapse_rate_hourly))\n",
    "df_day_9tiles.head(2)\n",
    "df_day_9tiles.to_csv(r'F:\\North_Changri_Nup\\Era5Land\\Lapse_rate.csv', index = False)"
   ]
  },
  {
   "cell_type": "code",
   "execution_count": 5,
   "metadata": {},
   "outputs": [
    {
     "data": {
      "text/html": [
       "<div>\n",
       "<style scoped>\n",
       "    .dataframe tbody tr th:only-of-type {\n",
       "        vertical-align: middle;\n",
       "    }\n",
       "\n",
       "    .dataframe tbody tr th {\n",
       "        vertical-align: top;\n",
       "    }\n",
       "\n",
       "    .dataframe thead th {\n",
       "        text-align: right;\n",
       "    }\n",
       "</style>\n",
       "<table border=\"1\" class=\"dataframe\">\n",
       "  <thead>\n",
       "    <tr style=\"text-align: right;\">\n",
       "      <th></th>\n",
       "      <th>Date</th>\n",
       "      <th>Julian Day</th>\n",
       "      <th>28.1,86.7</th>\n",
       "      <th>28.1,86.8</th>\n",
       "      <th>28.1,86.9</th>\n",
       "      <th>28.0,86.7</th>\n",
       "      <th>28.0,86.8</th>\n",
       "      <th>28.0,86.9</th>\n",
       "      <th>27.9,86.7</th>\n",
       "      <th>27.9,86.8</th>\n",
       "      <th>27.9,86.9</th>\n",
       "      <th>LapseRate</th>\n",
       "      <th>Moving_average_lapse_rate</th>\n",
       "    </tr>\n",
       "  </thead>\n",
       "  <tbody>\n",
       "    <tr>\n",
       "      <th>24</th>\n",
       "      <td>02-12-2014 0:00</td>\n",
       "      <td>2.01</td>\n",
       "      <td>-8.26617</td>\n",
       "      <td>-9.21736</td>\n",
       "      <td>-10.4538</td>\n",
       "      <td>-3.22502</td>\n",
       "      <td>-5.27051</td>\n",
       "      <td>-9.36353</td>\n",
       "      <td>1.307555</td>\n",
       "      <td>-0.70140</td>\n",
       "      <td>-6.21154</td>\n",
       "      <td>7.586240</td>\n",
       "      <td>7.150231</td>\n",
       "    </tr>\n",
       "    <tr>\n",
       "      <th>25</th>\n",
       "      <td>02-12-2014 1:00</td>\n",
       "      <td>2.02</td>\n",
       "      <td>-8.49661</td>\n",
       "      <td>-9.41429</td>\n",
       "      <td>-10.6802</td>\n",
       "      <td>-3.11945</td>\n",
       "      <td>-5.22686</td>\n",
       "      <td>-9.48738</td>\n",
       "      <td>1.461855</td>\n",
       "      <td>-0.59481</td>\n",
       "      <td>-6.21357</td>\n",
       "      <td>7.692908</td>\n",
       "      <td>7.134672</td>\n",
       "    </tr>\n",
       "  </tbody>\n",
       "</table>\n",
       "</div>"
      ],
      "text/plain": [
       "               Date  Julian Day  28.1,86.7  28.1,86.8  28.1,86.9  28.0,86.7  \\\n",
       "24  02-12-2014 0:00        2.01   -8.26617   -9.21736   -10.4538   -3.22502   \n",
       "25  02-12-2014 1:00        2.02   -8.49661   -9.41429   -10.6802   -3.11945   \n",
       "\n",
       "    28.0,86.8  28.0,86.9  27.9,86.7  27.9,86.8  27.9,86.9  LapseRate  \\\n",
       "24   -5.27051   -9.36353   1.307555   -0.70140   -6.21154   7.586240   \n",
       "25   -5.22686   -9.48738   1.461855   -0.59481   -6.21357   7.692908   \n",
       "\n",
       "    Moving_average_lapse_rate  \n",
       "24                   7.150231  \n",
       "25                   7.134672  "
      ]
     },
     "execution_count": 5,
     "metadata": {},
     "output_type": "execute_result"
    },
    {
     "data": {
      "image/png": "[encoded data removed]",
      "text/plain": [
       "<Figure size 900x600 with 1 Axes>"
      ]
     },
     "metadata": {
      "needs_background": "light"
     },
     "output_type": "display_data"
    }
   ],
   "source": [
    "day_for_ave_lapserate = 1\n",
    "window_size = int(day_for_ave_lapserate*24)\n",
    "numbers_series = pd.Series(lapse_rate_hourly)\n",
    "windows = numbers_series.rolling(window_size)\n",
    "moving_averages = windows.mean()\n",
    "moving_averages_list = moving_averages.tolist()\n",
    "without_nans_lr = moving_averages_list[window_size - 1:]\n",
    "\n",
    "plt.rcParams['figure.dpi'] = 150\n",
    "plt.rcParams['savefig.dpi'] = 150\n",
    "df_day_9tiles['Moving_average_lapse_rate'] = moving_averages_list\n",
    "plt.plot(df_day_9tiles['Julian Day'] ,df_day_9tiles['Moving_average_lapse_rate'], color='red', linewidth=0.7)\n",
    "plt.xlabel('Julian Day')\n",
    "plt.ylabel('Lapse Rate °C/Km')\n",
    "plt.xlim(1,365)\n",
    "df = df_day_9tiles.iloc[window_size:, :] #df starts with day 2\n",
    "df.head(2)"
   ]
  },
  {
   "cell_type": "markdown",
   "metadata": {},
   "source": [
    "## Calculating T at 5470 meter height"
   ]
  },
  {
   "cell_type": "code",
   "execution_count": 6,
   "metadata": {},
   "outputs": [
    {
     "name": "stderr",
     "output_type": "stream",
     "text": [
      "<ipython-input-6-d9b8b7bd0382>:1: SettingWithCopyWarning: \n",
      "A value is trying to be set on a copy of a slice from a DataFrame.\n",
      "Try using .loc[row_indexer,col_indexer] = value instead\n",
      "\n",
      "See the caveats in the documentation: https://pandas.pydata.org/pandas-docs/stable/user_guide/indexing.html#returning-a-view-versus-a-copy\n",
      "  df['T_5470_Era']= df['Moving_average_lapse_rate']*(elevations[0] - 5470 )/1000 + df['28.1,86.7']\n"
     ]
    },
    {
     "data": {
      "text/html": [
       "<div>\n",
       "<style scoped>\n",
       "    .dataframe tbody tr th:only-of-type {\n",
       "        vertical-align: middle;\n",
       "    }\n",
       "\n",
       "    .dataframe tbody tr th {\n",
       "        vertical-align: top;\n",
       "    }\n",
       "\n",
       "    .dataframe thead th {\n",
       "        text-align: right;\n",
       "    }\n",
       "</style>\n",
       "<table border=\"1\" class=\"dataframe\">\n",
       "  <thead>\n",
       "    <tr style=\"text-align: right;\">\n",
       "      <th></th>\n",
       "      <th>Date</th>\n",
       "      <th>Julian Day</th>\n",
       "      <th>28.1,86.7</th>\n",
       "      <th>28.1,86.8</th>\n",
       "      <th>28.1,86.9</th>\n",
       "      <th>28.0,86.7</th>\n",
       "      <th>28.0,86.8</th>\n",
       "      <th>28.0,86.9</th>\n",
       "      <th>27.9,86.7</th>\n",
       "      <th>27.9,86.8</th>\n",
       "      <th>27.9,86.9</th>\n",
       "      <th>LapseRate</th>\n",
       "      <th>Moving_average_lapse_rate</th>\n",
       "      <th>T_5470_Era</th>\n",
       "    </tr>\n",
       "  </thead>\n",
       "  <tbody>\n",
       "    <tr>\n",
       "      <th>0</th>\n",
       "      <td>02-12-2014 0:00</td>\n",
       "      <td>2.01</td>\n",
       "      <td>-8.26617</td>\n",
       "      <td>-9.21736</td>\n",
       "      <td>-10.4538</td>\n",
       "      <td>-3.22502</td>\n",
       "      <td>-5.27051</td>\n",
       "      <td>-9.36353</td>\n",
       "      <td>1.307555</td>\n",
       "      <td>-0.70140</td>\n",
       "      <td>-6.21154</td>\n",
       "      <td>7.586240</td>\n",
       "      <td>7.150231</td>\n",
       "      <td>-4.418534</td>\n",
       "    </tr>\n",
       "    <tr>\n",
       "      <th>1</th>\n",
       "      <td>02-12-2014 1:00</td>\n",
       "      <td>2.02</td>\n",
       "      <td>-8.49661</td>\n",
       "      <td>-9.41429</td>\n",
       "      <td>-10.6802</td>\n",
       "      <td>-3.11945</td>\n",
       "      <td>-5.22686</td>\n",
       "      <td>-9.48738</td>\n",
       "      <td>1.461855</td>\n",
       "      <td>-0.59481</td>\n",
       "      <td>-6.21357</td>\n",
       "      <td>7.692908</td>\n",
       "      <td>7.134672</td>\n",
       "      <td>-4.657346</td>\n",
       "    </tr>\n",
       "  </tbody>\n",
       "</table>\n",
       "</div>"
      ],
      "text/plain": [
       "              Date  Julian Day  28.1,86.7  28.1,86.8  28.1,86.9  28.0,86.7  \\\n",
       "0  02-12-2014 0:00        2.01   -8.26617   -9.21736   -10.4538   -3.22502   \n",
       "1  02-12-2014 1:00        2.02   -8.49661   -9.41429   -10.6802   -3.11945   \n",
       "\n",
       "   28.0,86.8  28.0,86.9  27.9,86.7  27.9,86.8  27.9,86.9  LapseRate  \\\n",
       "0   -5.27051   -9.36353   1.307555   -0.70140   -6.21154   7.586240   \n",
       "1   -5.22686   -9.48738   1.461855   -0.59481   -6.21357   7.692908   \n",
       "\n",
       "   Moving_average_lapse_rate  T_5470_Era  \n",
       "0                   7.150231   -4.418534  \n",
       "1                   7.134672   -4.657346  "
      ]
     },
     "execution_count": 6,
     "metadata": {},
     "output_type": "execute_result"
    }
   ],
   "source": [
    "df['T_5470_Era']= df['Moving_average_lapse_rate']*(elevations[0] - 5470 )/1000 + df['28.1,86.7']\n",
    "df.index = np.arange(8712 - 24*day_for_ave_lapserate)\n",
    "df.to_csv(r'F:\\North_Changri_Nup\\Era5Land\\Hourly_T_lr_Nov2014-Nov2015.csv', index = False)\n",
    "df.head(2)"
   ]
  },
  {
   "cell_type": "markdown",
   "metadata": {},
   "source": [
    "### Calculating 15 Day Bias"
   ]
  },
  {
   "cell_type": "code",
   "execution_count": 7,
   "metadata": {},
   "outputs": [],
   "source": [
    "t_5470_30min = [] #from Era5Land\n",
    "for t in df['T_5470_Era']:\n",
    "    x = 2\n",
    "    while x > 0:\n",
    "        t_5470_30min.append(t)\n",
    "        x-=1\n",
    "        \n",
    "df_AWS_T = pd.read_csv(r'F:\\North_Changri_Nup\\AWS_T_2014-15.csv')\n",
    "df_AWS_T = df_AWS_T.iloc[day_for_ave_lapserate*48: , :]\n",
    "df_AWS_T['T_5470_Era'] = t_5470_30min\n",
    "df_AWS_T['Bias'] = df_AWS_T['Tair'] - df_AWS_T['T_5470_Era']\n",
    "#df_AWS_T.head(3)\n",
    "#df_AWS_T.iloc[2697:2702]"
   ]
  },
  {
   "cell_type": "code",
   "execution_count": 8,
   "metadata": {},
   "outputs": [
    {
     "name": "stderr",
     "output_type": "stream",
     "text": [
      "<ipython-input-8-332aba54f93a>:19: SettingWithCopyWarning: \n",
      "A value is trying to be set on a copy of a slice from a DataFrame.\n",
      "Try using .loc[row_indexer,col_indexer] = value instead\n",
      "\n",
      "See the caveats in the documentation: https://pandas.pydata.org/pandas-docs/stable/user_guide/indexing.html#returning-a-view-versus-a-copy\n",
      "  df['Bias_15Day'] = bias_ydays_12plus[:8712 - 24*day_for_ave_lapserate]\n"
     ]
    },
    {
     "data": {
      "text/html": [
       "<div>\n",
       "<style scoped>\n",
       "    .dataframe tbody tr th:only-of-type {\n",
       "        vertical-align: middle;\n",
       "    }\n",
       "\n",
       "    .dataframe tbody tr th {\n",
       "        vertical-align: top;\n",
       "    }\n",
       "\n",
       "    .dataframe thead th {\n",
       "        text-align: right;\n",
       "    }\n",
       "</style>\n",
       "<table border=\"1\" class=\"dataframe\">\n",
       "  <thead>\n",
       "    <tr style=\"text-align: right;\">\n",
       "      <th></th>\n",
       "      <th>Date</th>\n",
       "      <th>Julian Day</th>\n",
       "      <th>28.1,86.7</th>\n",
       "      <th>28.1,86.8</th>\n",
       "      <th>28.1,86.9</th>\n",
       "      <th>28.0,86.7</th>\n",
       "      <th>28.0,86.8</th>\n",
       "      <th>28.0,86.9</th>\n",
       "      <th>27.9,86.7</th>\n",
       "      <th>27.9,86.8</th>\n",
       "      <th>27.9,86.9</th>\n",
       "      <th>LapseRate</th>\n",
       "      <th>Moving_average_lapse_rate</th>\n",
       "      <th>T_5470_Era</th>\n",
       "      <th>Bias_15Day</th>\n",
       "    </tr>\n",
       "  </thead>\n",
       "  <tbody>\n",
       "    <tr>\n",
       "      <th>0</th>\n",
       "      <td>02-12-2014 0:00</td>\n",
       "      <td>2.01</td>\n",
       "      <td>-8.26617</td>\n",
       "      <td>-9.21736</td>\n",
       "      <td>-10.4538</td>\n",
       "      <td>-3.22502</td>\n",
       "      <td>-5.27051</td>\n",
       "      <td>-9.36353</td>\n",
       "      <td>1.307555</td>\n",
       "      <td>-0.70140</td>\n",
       "      <td>-6.21154</td>\n",
       "      <td>7.586240</td>\n",
       "      <td>7.150231</td>\n",
       "      <td>-4.418534</td>\n",
       "      <td>2.250074</td>\n",
       "    </tr>\n",
       "    <tr>\n",
       "      <th>1</th>\n",
       "      <td>02-12-2014 1:00</td>\n",
       "      <td>2.02</td>\n",
       "      <td>-8.49661</td>\n",
       "      <td>-9.41429</td>\n",
       "      <td>-10.6802</td>\n",
       "      <td>-3.11945</td>\n",
       "      <td>-5.22686</td>\n",
       "      <td>-9.48738</td>\n",
       "      <td>1.461855</td>\n",
       "      <td>-0.59481</td>\n",
       "      <td>-6.21357</td>\n",
       "      <td>7.692908</td>\n",
       "      <td>7.134672</td>\n",
       "      <td>-4.657346</td>\n",
       "      <td>2.250074</td>\n",
       "    </tr>\n",
       "  </tbody>\n",
       "</table>\n",
       "</div>"
      ],
      "text/plain": [
       "              Date  Julian Day  28.1,86.7  28.1,86.8  28.1,86.9  28.0,86.7  \\\n",
       "0  02-12-2014 0:00        2.01   -8.26617   -9.21736   -10.4538   -3.22502   \n",
       "1  02-12-2014 1:00        2.02   -8.49661   -9.41429   -10.6802   -3.11945   \n",
       "\n",
       "   28.0,86.8  28.0,86.9  27.9,86.7  27.9,86.8  27.9,86.9  LapseRate  \\\n",
       "0   -5.27051   -9.36353   1.307555   -0.70140   -6.21154   7.586240   \n",
       "1   -5.22686   -9.48738   1.461855   -0.59481   -6.21357   7.692908   \n",
       "\n",
       "   Moving_average_lapse_rate  T_5470_Era  Bias_15Day  \n",
       "0                   7.150231   -4.418534    2.250074  \n",
       "1                   7.134672   -4.657346    2.250074  "
      ]
     },
     "execution_count": 8,
     "metadata": {},
     "output_type": "execute_result"
    }
   ],
   "source": [
    "bias = df_AWS_T['Bias']\n",
    "bias_ydays_12plus = []\n",
    "bias_day = 15\n",
    "\n",
    "for x in range(0, len(bias), bias_day*48):\n",
    "    chunk = bias[x:x + bias_day*48]\n",
    "    if math.isnan(sum(chunk)) == True:\n",
    "        new_chunk = list(np.array(chunk)[np.logical_not(np.isnan(np.array(chunk)))])\n",
    "        #print(sum(new_chunk)/len(new_chunk))\n",
    "        y = bias_day * 24\n",
    "        while y > 0:\n",
    "            bias_ydays_12plus.append(sum(new_chunk) / len(new_chunk))\n",
    "            y = y - 1\n",
    "    else:\n",
    "        y = bias_day * 24\n",
    "        while y > 0:\n",
    "            bias_ydays_12plus.append(sum(chunk) / len(chunk))\n",
    "            y = y - 1\n",
    "df['Bias_15Day'] = bias_ydays_12plus[:8712 - 24*day_for_ave_lapserate]\n",
    "#df.iloc[4776:4800,:]\n",
    "df.head(2)"
   ]
  },
  {
   "cell_type": "markdown",
   "metadata": {},
   "source": [
    "### Loading Stake Ablation Data"
   ]
  },
  {
   "cell_type": "code",
   "execution_count": 9,
   "metadata": {},
   "outputs": [
    {
     "data": {
      "text/html": [
       "<div>\n",
       "<style scoped>\n",
       "    .dataframe tbody tr th:only-of-type {\n",
       "        vertical-align: middle;\n",
       "    }\n",
       "\n",
       "    .dataframe tbody tr th {\n",
       "        vertical-align: top;\n",
       "    }\n",
       "\n",
       "    .dataframe thead th {\n",
       "        text-align: right;\n",
       "    }\n",
       "</style>\n",
       "<table border=\"1\" class=\"dataframe\">\n",
       "  <thead>\n",
       "    <tr style=\"text-align: right;\">\n",
       "      <th></th>\n",
       "      <th>Stake Name</th>\n",
       "      <th>jd1</th>\n",
       "      <th>jd2</th>\n",
       "      <th>Debris Thickness</th>\n",
       "      <th>Time Period</th>\n",
       "      <th>Elevation</th>\n",
       "      <th>Obs_days</th>\n",
       "      <th>MB (cm w.e.)</th>\n",
       "      <th>time_period</th>\n",
       "      <th>Melt Rate</th>\n",
       "    </tr>\n",
       "  </thead>\n",
       "  <tbody>\n",
       "    <tr>\n",
       "      <th>0</th>\n",
       "      <td>CNBL21−14</td>\n",
       "      <td>145</td>\n",
       "      <td>228</td>\n",
       "      <td>6.0</td>\n",
       "      <td>MB avr15_jul15</td>\n",
       "      <td>5471.842</td>\n",
       "      <td>83</td>\n",
       "      <td>97.25</td>\n",
       "      <td>2</td>\n",
       "      <td>1.171687</td>\n",
       "    </tr>\n",
       "    <tr>\n",
       "      <th>1</th>\n",
       "      <td>CNBL22−14</td>\n",
       "      <td>2</td>\n",
       "      <td>144</td>\n",
       "      <td>33.0</td>\n",
       "      <td>MB nov14_avr15</td>\n",
       "      <td>5471.822</td>\n",
       "      <td>145</td>\n",
       "      <td>3.60</td>\n",
       "      <td>1</td>\n",
       "      <td>0.024828</td>\n",
       "    </tr>\n",
       "  </tbody>\n",
       "</table>\n",
       "</div>"
      ],
      "text/plain": [
       "  Stake Name  jd1  jd2  Debris Thickness     Time Period  Elevation  Obs_days  \\\n",
       "0  CNBL21−14  145  228               6.0  MB avr15_jul15   5471.842        83   \n",
       "1  CNBL22−14    2  144              33.0  MB nov14_avr15   5471.822       145   \n",
       "\n",
       "   MB (cm w.e.)  time_period  Melt Rate  \n",
       "0         97.25            2   1.171687  \n",
       "1          3.60            1   0.024828  "
      ]
     },
     "execution_count": 9,
     "metadata": {},
     "output_type": "execute_result"
    }
   ],
   "source": [
    "df_stake_data = pd.read_csv(r'F:\\North_Changri_Nup\\Stake_Ablation_Data.csv')\n",
    "df_stake_data['Melt Rate'] = df_stake_data['MB (cm w.e.)']/df_stake_data['Obs_days']\n",
    "df_stake_data.head(2)"
   ]
  },
  {
   "cell_type": "markdown",
   "metadata": {},
   "source": [
    "### Area Weighted PDD"
   ]
  },
  {
   "cell_type": "code",
   "execution_count": 10,
   "metadata": {},
   "outputs": [
    {
     "data": {
      "text/html": [
       "<div>\n",
       "<style scoped>\n",
       "    .dataframe tbody tr th:only-of-type {\n",
       "        vertical-align: middle;\n",
       "    }\n",
       "\n",
       "    .dataframe tbody tr th {\n",
       "        vertical-align: top;\n",
       "    }\n",
       "\n",
       "    .dataframe thead th {\n",
       "        text-align: right;\n",
       "    }\n",
       "</style>\n",
       "<table border=\"1\" class=\"dataframe\">\n",
       "  <thead>\n",
       "    <tr style=\"text-align: right;\">\n",
       "      <th></th>\n",
       "      <th>Stake Name</th>\n",
       "      <th>jd1</th>\n",
       "      <th>jd2</th>\n",
       "      <th>Debris Thickness</th>\n",
       "      <th>Time Period</th>\n",
       "      <th>Elevation</th>\n",
       "      <th>Obs_days</th>\n",
       "      <th>MB (cm w.e.)</th>\n",
       "      <th>time_period</th>\n",
       "      <th>Melt Rate</th>\n",
       "      <th>pdd_area_weighted</th>\n",
       "    </tr>\n",
       "  </thead>\n",
       "  <tbody>\n",
       "    <tr>\n",
       "      <th>0</th>\n",
       "      <td>CNBL21−14</td>\n",
       "      <td>145</td>\n",
       "      <td>228</td>\n",
       "      <td>6.0</td>\n",
       "      <td>MB avr15_jul15</td>\n",
       "      <td>5471.842</td>\n",
       "      <td>83</td>\n",
       "      <td>97.25</td>\n",
       "      <td>2</td>\n",
       "      <td>1.171687</td>\n",
       "      <td>105.225896</td>\n",
       "    </tr>\n",
       "    <tr>\n",
       "      <th>1</th>\n",
       "      <td>CNBL22−14</td>\n",
       "      <td>2</td>\n",
       "      <td>144</td>\n",
       "      <td>33.0</td>\n",
       "      <td>MB nov14_avr15</td>\n",
       "      <td>5471.822</td>\n",
       "      <td>145</td>\n",
       "      <td>3.60</td>\n",
       "      <td>1</td>\n",
       "      <td>0.024828</td>\n",
       "      <td>3.925073</td>\n",
       "    </tr>\n",
       "  </tbody>\n",
       "</table>\n",
       "</div>"
      ],
      "text/plain": [
       "  Stake Name  jd1  jd2  Debris Thickness     Time Period  Elevation  Obs_days  \\\n",
       "0  CNBL21−14  145  228               6.0  MB avr15_jul15   5471.842        83   \n",
       "1  CNBL22−14    2  144              33.0  MB nov14_avr15   5471.822       145   \n",
       "\n",
       "   MB (cm w.e.)  time_period  Melt Rate  pdd_area_weighted  \n",
       "0         97.25            2   1.171687         105.225896  \n",
       "1          3.60            1   0.024828           3.925073  "
      ]
     },
     "execution_count": 10,
     "metadata": {},
     "output_type": "execute_result"
    }
   ],
   "source": [
    "df_histo = pd.read_csv(r'F:\\North_Changri_Nup\\ChangriNup_histo.csv')\n",
    "df_histo\n",
    "elevation = df_histo['Elevation']\n",
    "area = df_histo['Area (km2)']\n",
    "area_weighted_pdd = []\n",
    "for i in range(len(df_stake_data.index)):  #number of time intervals\n",
    "    areaXpdd = []   # for each time interval, area*pdd for different elevations of the histogram\n",
    "    for a, z in zip(area, elevation):  \n",
    "        try:\n",
    "            y = list(df['Julian Day']).index(df_stake_data['jd2'][i] + 1.01) #indices of starting and ending day\n",
    "        except:\n",
    "            y = 8687\n",
    "        x = list(df['Julian Day']).index(df_stake_data['jd1'][i] + .01)\n",
    "        temp_at_z = list(df['Moving_average_lapse_rate'][x:y]*(6008.11359 - z )/1000 + df['28.1,86.7'][x:y] + df['Bias_15Day'][x:y])\n",
    "        PDD = sum([s for s in temp_at_z if s > 0]) / 24 \n",
    "        areaXpdd.append(PDD*a)\n",
    "    area_weighted_pdd.append(sum(areaXpdd)/sum(area))\n",
    "\n",
    "df_stake_data['pdd_area_weighted'] = area_weighted_pdd\n",
    "df_stake_data.head(2)"
   ]
  },
  {
   "cell_type": "markdown",
   "metadata": {},
   "source": [
    "### Frequency distribution of Debris"
   ]
  },
  {
   "cell_type": "code",
   "execution_count": 11,
   "metadata": {},
   "outputs": [
    {
     "data": {
      "text/html": [
       "<div>\n",
       "<style scoped>\n",
       "    .dataframe tbody tr th:only-of-type {\n",
       "        vertical-align: middle;\n",
       "    }\n",
       "\n",
       "    .dataframe tbody tr th {\n",
       "        vertical-align: top;\n",
       "    }\n",
       "\n",
       "    .dataframe thead th {\n",
       "        text-align: right;\n",
       "    }\n",
       "</style>\n",
       "<table border=\"1\" class=\"dataframe\">\n",
       "  <thead>\n",
       "    <tr style=\"text-align: right;\">\n",
       "      <th></th>\n",
       "      <th>Debris Thickness (cm)</th>\n",
       "      <th>%frequency</th>\n",
       "    </tr>\n",
       "  </thead>\n",
       "  <tbody>\n",
       "    <tr>\n",
       "      <th>0</th>\n",
       "      <td>5</td>\n",
       "      <td>0.073383</td>\n",
       "    </tr>\n",
       "    <tr>\n",
       "      <th>1</th>\n",
       "      <td>15</td>\n",
       "      <td>0.067304</td>\n",
       "    </tr>\n",
       "  </tbody>\n",
       "</table>\n",
       "</div>"
      ],
      "text/plain": [
       "   Debris Thickness (cm)  %frequency\n",
       "0                      5    0.073383\n",
       "1                     15    0.067304"
      ]
     },
     "execution_count": 11,
     "metadata": {},
     "output_type": "execute_result"
    }
   ],
   "source": [
    "df_freq = pd.read_csv(r'F:\\North_Changri_Nup\\ChangriNup_Frequency_Distribution.csv')\n",
    "debris_thickness = df_freq['Debris Thickness (cm)']\n",
    "freq = df_freq['%frequency']\n",
    "df_freq.head(2)"
   ]
  },
  {
   "cell_type": "markdown",
   "metadata": {},
   "source": [
    "### Calculating Modelled Melt using three models\n"
   ]
  },
  {
   "cell_type": "code",
   "execution_count": 12,
   "metadata": {},
   "outputs": [],
   "source": [
    "melt_model1 = [] #modeled melt in cm\n",
    "melt_model2 = []\n",
    "melt_model3 = []\n",
    "\n",
    "for db, pdd in zip(df_stake_data['Debris Thickness'],df_stake_data['pdd_area_weighted']):\n",
    "    melt_model1.append((5.84*(db**-0.38)*pdd)/10)\n",
    "    melt_model2.append((5.12*pdd/(1 + db/12.25))/10)\n",
    "    melt_model3.append((6.82*pdd/(1 + (db/1.23)**2)**0.23)/10)\n",
    "        \n",
    "#df_stake_data['Observed_melt'] = list(df_stake_data['MB (cm w.e.)'])\n",
    "df_stake_data['Model 1 melt']= melt_model1\n",
    "df_stake_data['Model 2 melt']= melt_model2\n",
    "df_stake_data['Model 3 melt']= melt_model3\n",
    "df_stake_data.to_csv(r'F:\\North_Changri_Nup\\Stake_ablation_modeled_melt.csv', index=False)\n",
    "\n",
    "\n",
    "rmse1 = (sum((df_stake_data['MB (cm w.e.)']/df_stake_data['Obs_days'] - df_stake_data['Model 1 melt']/df_stake_data['Obs_days'])**2)/31)**0.5\n",
    "rmse2 = (sum((df_stake_data['MB (cm w.e.)']/df_stake_data['Obs_days'] - df_stake_data['Model 2 melt']/df_stake_data['Obs_days'])**2)/31)**0.5\n",
    "rmse3 = (sum((df_stake_data['MB (cm w.e.)']/df_stake_data['Obs_days'] - df_stake_data['Model 3 melt']/df_stake_data['Obs_days'])**2)/31)**0.5"
   ]
  },
  {
   "cell_type": "markdown",
   "metadata": {},
   "source": [
    "## Finding Total Melt"
   ]
  },
  {
   "cell_type": "markdown",
   "metadata": {},
   "source": [
    "### Observed Total Melt"
   ]
  },
  {
   "cell_type": "code",
   "execution_count": 13,
   "metadata": {},
   "outputs": [],
   "source": [
    "periodic_total_melt_n = []\n",
    "for n in range(1,5):\n",
    "    total_melt_n = [] # melts of nth time period for each db band\n",
    "    melt_n = []\n",
    "    db_thickness_n = []\n",
    "    #obs_day = [145, 83, 31, 102]\n",
    "    for m, db, time in zip(df_stake_data['MB (cm w.e.)'], df_stake_data['Debris Thickness'], df_stake_data['time_period']):\n",
    "        if time == n:\n",
    "            melt_n.append(m)\n",
    "            db_thickness_n.append(db)\n",
    "            \n",
    "    for d,fq in zip(debris_thickness, freq):\n",
    "        melt_d = []\n",
    "        for i, j in zip(melt_n, db_thickness_n):\n",
    "            if d-5 < j < d+5.0001:\n",
    "                melt_d.append(i)\n",
    "        if len(melt_d) >0:\n",
    "            total_melt_n.append(sum(melt_d)/len(melt_d)*(2.7 - 0.92)*fq/100)\n",
    "    periodic_total_melt_n.append(sum(total_melt_n))        "
   ]
  },
  {
   "cell_type": "markdown",
   "metadata": {},
   "source": [
    "## Total melt model 1, 2, 3"
   ]
  },
  {
   "cell_type": "code",
   "execution_count": 14,
   "metadata": {},
   "outputs": [
    {
     "data": {
      "image/png": "[encoded data removed]",
      "text/plain": [
       "<Figure size 900x600 with 1 Axes>"
      ]
     },
     "metadata": {
      "needs_background": "light"
     },
     "output_type": "display_data"
    }
   ],
   "source": [
    "periodic_total_melt_n_model1 = []\n",
    "for n in range(1,5):\n",
    "    total_melt_n = [] # melts of nth time period for each db band\n",
    "    melt_n = []\n",
    "    db_thickness_n = []\n",
    "    #obs_day = [145, 83, 31, 102]\n",
    "    for m, db, time in zip(df_stake_data['Model 1 melt'], df_stake_data['Debris Thickness'], df_stake_data['time_period']):\n",
    "        if time == n:\n",
    "            melt_n.append(m)\n",
    "            db_thickness_n.append(db)\n",
    "            \n",
    "    for d,fq in zip(debris_thickness, freq):\n",
    "        melt_d = []\n",
    "        for i, j in zip(melt_n, db_thickness_n):\n",
    "            if d-5 < j < d+5.0001:\n",
    "                melt_d.append(i)\n",
    "        if len(melt_d) >0:\n",
    "            total_melt_n.append(sum(melt_d)/len(melt_d)*(2.7 - 0.92)*fq/100)\n",
    "    periodic_total_melt_n_model1.append(sum(total_melt_n))\n",
    "\n",
    "\n",
    "periodic_total_melt_n_model2 = []\n",
    "for n in range(1,5):\n",
    "    total_melt_n = [] # melts of nth time period for each db band\n",
    "    melt_n = []\n",
    "    db_thickness_n = []\n",
    "    #obs_day = [145, 83, 31, 102]\n",
    "    for m, db, time in zip(df_stake_data['Model 2 melt'], df_stake_data['Debris Thickness'], df_stake_data['time_period']):\n",
    "        if time == n:\n",
    "            melt_n.append(m)\n",
    "            db_thickness_n.append(db)\n",
    "            \n",
    "    for d,fq in zip(debris_thickness, freq):\n",
    "        melt_d = []\n",
    "        for i, j in zip(melt_n, db_thickness_n):\n",
    "            if d-5 < j < d+5.0001:\n",
    "                melt_d.append(i)\n",
    "        if len(melt_d) >0:\n",
    "            total_melt_n.append(sum(melt_d)/len(melt_d)*(2.7 - 0.92)*fq/100)\n",
    "    periodic_total_melt_n_model2.append(sum(total_melt_n))\n",
    "\n",
    "\n",
    "\n",
    "periodic_total_melt_n_model3 = []\n",
    "for n in range(1,5):\n",
    "    total_melt_n = [] # melts of nth time period for each db band\n",
    "    melt_n = []\n",
    "    db_thickness_n = []\n",
    "    #obs_day = [145, 83, 31, 102]\n",
    "    for m, db, time in zip(df_stake_data['Model 3 melt'], df_stake_data['Debris Thickness'], df_stake_data['time_period']):\n",
    "        if time == n:\n",
    "            melt_n.append(m)\n",
    "            db_thickness_n.append(db)\n",
    "            \n",
    "    for d,fq in zip(debris_thickness, freq):\n",
    "        melt_d = []\n",
    "        for i, j in zip(melt_n, db_thickness_n):\n",
    "            if d-5 < j < d+5.0001:\n",
    "                melt_d.append(i)\n",
    "        if len(melt_d) >0:\n",
    "            total_melt_n.append(sum(melt_d)/len(melt_d)*(2.7 - 0.92)*fq/100)\n",
    "    periodic_total_melt_n_model3.append(sum(total_melt_n))\n",
    "    \n",
    "\n",
    "plt.plot(['Nov_14-April_15','April_15-Jul_15','Jul_15-Aug_15','Aug_15-Nov_15'], periodic_total_melt_n, label = 'Observed melt')\n",
    "plt.plot(['Nov_14-April_15','April_15-Jul_15','Jul_15-Aug_15','Aug_15-Nov_15'], periodic_total_melt_n_model1, label = 'Model 1 melt')\n",
    "plt.plot(['Nov_14-April_15','April_15-Jul_15','Jul_15-Aug_15','Aug_15-Nov_15'], periodic_total_melt_n_model2, label = 'Model 2 melt')\n",
    "plt.plot(['Nov_14-April_15','April_15-Jul_15','Jul_15-Aug_15','Aug_15-Nov_15'], periodic_total_melt_n_model3, label = 'Model 3 melt')\n",
    "plt.legend()\n",
    "plt.ylabel('Total melt in 10^6 m^3')\n",
    "df_periodic_melt = pd.DataFrame({'observed melt': periodic_total_melt_n,\n",
    "                                'Model 1 melt': periodic_total_melt_n_model1,\n",
    "                                'Model 2 melt': periodic_total_melt_n_model2,\n",
    "                                'Model 3 melt': periodic_total_melt_n_model3})\n",
    "rmse_1 = (sum((df_periodic_melt['observed melt'] - df_periodic_melt['Model 1 melt'])**2)/4)**0.5\n",
    "rmse_2 = (sum((df_periodic_melt['observed melt'] - df_periodic_melt['Model 2 melt'])**2)/4)**0.5\n",
    "rmse_3 = (sum((df_periodic_melt['observed melt'] - df_periodic_melt['Model 3 melt'])**2)/4)**0.5\n"
   ]
  },
  {
   "cell_type": "code",
   "execution_count": 15,
   "metadata": {},
   "outputs": [
    {
     "name": "stdout",
     "output_type": "stream",
     "text": [
      "Rmse in cm/day\n",
      "Rmse1 = 0.9146623149831679\n",
      "Rmse2 = 0.8948771010118431\n",
      "Rmse3 = 0.8943861722663685 \n",
      "\n",
      "Rmse in 10^6 m^3\n",
      "Rmse_1 = 0.20813140925600354\n",
      "Rmse_2 = 0.21322661416997346\n",
      "Rmse_3 = 0.20555339245318938\n"
     ]
    }
   ],
   "source": [
    "print('Rmse in cm/day')\n",
    "print('Rmse1 =' ,rmse1)\n",
    "print('Rmse2 =' ,rmse2) # in cm/day\n",
    "print('Rmse3 =' ,rmse3, '\\n')\n",
    "print('Rmse in 10^6 m^3')\n",
    "print('Rmse_1 =' ,rmse_1)\n",
    "print('Rmse_2 =' ,rmse_2) # in 10^6 m^3\n",
    "print('Rmse_3 =' ,rmse_3)"
   ]
  }
 ],
 "metadata": {
  "kernelspec": {
   "display_name": "Python 3",
   "language": "python",
   "name": "python3"
  },
  "language_info": {
   "codemirror_mode": {
    "name": "ipython",
    "version": 3
   },
   "file_extension": ".py",
   "mimetype": "text/x-python",
   "name": "python",
   "nbconvert_exporter": "python",
   "pygments_lexer": "ipython3",
   "version": "3.8.3"
  }
 },
 "nbformat": 4,
 "nbformat_minor": 4
}
